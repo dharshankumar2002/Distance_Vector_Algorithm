{
 "cells": [
  {
   "cell_type": "code",
   "execution_count": 3,
   "metadata": {},
   "outputs": [
    {
     "name": "stdout",
     "output_type": "stream",
     "text": [
      "Vertex Distance from Source\n",
      "0\t\t0\n",
      "1\t\t5\n",
      "2\t\t4\n",
      "3\t\t8\n",
      "4\t\tinf\n"
     ]
    }
   ],
   "source": [
    "class Graph: \n",
    "    def __init__(self, vertices):        \n",
    "        self.V = vertices   # Total number of vertices in the graph        \n",
    "        self.graph = []     # Array of edges    \n",
    "\n",
    "    # Add edges    \n",
    "    def add_edge(self, s, d, w):        \n",
    "        self.graph.append([s, d, w])    \n",
    "\n",
    "    # Print the solution    \n",
    "    def print_solution(self, dist):        \n",
    "        print(\"Vertex Distance from Source\")        \n",
    "        for i in range(self.V):            \n",
    "            print(\"{0}\\t\\t{1}\".format(i, dist[i])) \n",
    "    def bellman_ford(self, src):        \n",
    "        # Step 1: fill the distance array and predecessor array        \n",
    "        dist = [float(\"Inf\")] * self.V       \n",
    "        # Mark the source vertex        \n",
    "        dist[src] = 0        \n",
    "\n",
    "        # Step 2: relax edges |V| - 1 times        \n",
    "        for _ in range(self.V - 1):            \n",
    "            for s, d, w in self.graph:                \n",
    "                if dist[s] != float(\"Inf\") and dist[s] + w < dist[d]:                    \n",
    "                    dist[d] = dist[s] + w        \n",
    "\n",
    "        # Step 3: detect negative cycle        \n",
    "        # if value changes then we have a negative cycle in the graph        \n",
    "        # and we cannot find the shortest distances        \n",
    "        for s, d, w in self.graph:            \n",
    "            if dist[s] != float(\"Inf\") and dist[s] + w < dist[d]:                \n",
    "                print(\"Graph contains negative weight cycle\")                \n",
    "                return        \n",
    "\n",
    "        # No negative weight cycle found!        \n",
    "        # Print the distance and predecessor array        \n",
    "        self.print_solution(dist) \n",
    "\n",
    "g = Graph(5)\n",
    "g.add_edge(0, 1, 5)\n",
    "g.add_edge(0, 2, 4)\n",
    "g.add_edge(1, 3, 3)\n",
    "g.add_edge(2, 1, 6)\n",
    "g.add_edge(3, 2, 2)\n",
    "g.bellman_ford(0) "
   ]
  },
  {
   "cell_type": "code",
   "execution_count": null,
   "metadata": {},
   "outputs": [],
   "source": []
  }
 ],
 "metadata": {
  "kernelspec": {
   "display_name": "Python 3",
   "language": "python",
   "name": "python3"
  },
  "language_info": {
   "codemirror_mode": {
    "name": "ipython",
    "version": 3
   },
   "file_extension": ".py",
   "mimetype": "text/x-python",
   "name": "python",
   "nbconvert_exporter": "python",
   "pygments_lexer": "ipython3",
   "version": "3.7.4"
  }
 },
 "nbformat": 4,
 "nbformat_minor": 2
}
